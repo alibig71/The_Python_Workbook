{
 "cells": [
  {
   "cell_type": "markdown",
   "metadata": {},
   "source": [
    "# Tax and Tip"
   ]
  },
  {
   "cell_type": "code",
   "execution_count": 2,
   "metadata": {},
   "outputs": [
    {
     "name": "stdout",
     "output_type": "stream",
     "text": [
      "What is the cost of the meal?100\n",
      "                             \n",
      "Total_payment 128.0\n",
      "tip_amount 18.0\n",
      "tax_amount 10.0\n"
     ]
    }
   ],
   "source": [
    "cost_of_a_meal_ordered=float(input(\"What is the cost of the meal?\"))\n",
    "tip_amount = 0.18*(cost_of_a_meal_ordered)\n",
    "local_tax_rate=0.1*(cost_of_a_meal_ordered)\n",
    "Total_payment=(cost_of_a_meal_ordered)+(tip_amount)+(local_tax_rate)\n",
    "print(\"                             \")\n",
    "print(\"Total_payment\", Total_payment)\n",
    "print(\"Tip_amount\", tip_amount)\n",
    "print(\"Tax_amount\", local_tax_rate)"
   ]
  }
 ],
 "metadata": {
  "kernelspec": {
   "display_name": "Python 3",
   "language": "python",
   "name": "python3"
  },
  "language_info": {
   "codemirror_mode": {
    "name": "ipython",
    "version": 3
   },
   "file_extension": ".py",
   "mimetype": "text/x-python",
   "name": "python",
   "nbconvert_exporter": "python",
   "pygments_lexer": "ipython3",
   "version": "3.7.3"
  }
 },
 "nbformat": 4,
 "nbformat_minor": 2
}
