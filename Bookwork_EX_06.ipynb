{
 "cells": [
  {
   "cell_type": "markdown",
   "metadata": {},
   "source": [
    "# Tax and Tip"
   ]
  },
  {
   "cell_type": "code",
   "execution_count": 6,
   "metadata": {},
   "outputs": [
    {
     "name": "stdout",
     "output_type": "stream",
     "text": [
      "What is the cost of the meal ?20\n",
      "                             \n",
      "Total_payment 25.6\n",
      "Tip_amount 3.60\n",
      "Tax_amount 2.0\n"
     ]
    }
   ],
   "source": [
    "cost_of_a_meal_ordered=float(input(\"What is the cost of the meal ?\"))\n",
    "tip_amount = 0.18*(cost_of_a_meal_ordered)\n",
    "local_tax_rate=0.1*(cost_of_a_meal_ordered)\n",
    "Total_payment=(cost_of_a_meal_ordered)+(tip_amount)+(local_tax_rate)\n",
    "print(\"                             \")\n",
    "print(\"Total_payment\", Total_payment)\n",
    "print(\"Tip_amount\",'%.2f' %tip_amount)\n",
    "print(\"Tax_amount\", local_tax_rate)"
   ]
  },
  {
   "cell_type": "code",
   "execution_count": null,
   "metadata": {},
   "outputs": [],
   "source": []
  }
 ],
 "metadata": {
  "kernelspec": {
   "display_name": "Python 3",
   "language": "python",
   "name": "python3"
  },
  "language_info": {
   "codemirror_mode": {
    "name": "ipython",
    "version": 3
   },
   "file_extension": ".py",
   "mimetype": "text/x-python",
   "name": "python",
   "nbconvert_exporter": "python",
   "pygments_lexer": "ipython3",
   "version": "3.7.6"
  }
 },
 "nbformat": 4,
 "nbformat_minor": 2
}
