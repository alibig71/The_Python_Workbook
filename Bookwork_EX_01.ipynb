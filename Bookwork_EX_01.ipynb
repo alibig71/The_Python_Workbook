{
 "cells": [
  {
   "cell_type": "markdown",
   "metadata": {},
   "source": [
    "# Mailling Addrerss "
   ]
  },
  {
   "cell_type": "code",
   "execution_count": 2,
   "metadata": {},
   "outputs": [
    {
     "name": "stdout",
     "output_type": "stream",
     "text": [
      "Alireza Bigdeli\n",
      "LDFC, Center of Technology, UFC,\n",
      "Av. Humberto Monte, Fortaleza, CE, Brazil\n"
     ]
    }
   ],
   "source": [
    "print(\"Alireza Bigdeli\")\n",
    "print(\"LDFC, Center of Technology, UFC,\") \n",
    "print(\"Av. Humberto Monte, Fortaleza, CE, Brazil\")"
   ]
  },
  {
   "cell_type": "code",
   "execution_count": null,
   "metadata": {},
   "outputs": [],
   "source": []
  }
 ],
 "metadata": {
  "kernelspec": {
   "display_name": "Python 3",
   "language": "python",
   "name": "python3"
  },
  "language_info": {
   "codemirror_mode": {
    "name": "ipython",
    "version": 3
   },
   "file_extension": ".py",
   "mimetype": "text/x-python",
   "name": "python",
   "nbconvert_exporter": "python",
   "pygments_lexer": "ipython3",
   "version": "3.7.6"
  }
 },
 "nbformat": 4,
 "nbformat_minor": 4
}
