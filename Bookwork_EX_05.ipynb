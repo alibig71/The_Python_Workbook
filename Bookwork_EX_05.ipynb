{
 "cells": [
  {
   "cell_type": "markdown",
   "metadata": {},
   "source": [
    "# Bottle Deposits"
   ]
  },
  {
   "cell_type": "code",
   "execution_count": 13,
   "metadata": {},
   "outputs": [
    {
     "name": "stdout",
     "output_type": "stream",
     "text": [
      "number of containers less than 1L:  234\n",
      "number of containers higher than 1L:  255\n",
      "Final Price is:   87.15\n"
     ]
    }
   ],
   "source": [
    "NCL=int(input(\"number of containers less than 1L:  \"))\n",
    "NCH=int(input(\"number of containers higher than 1L:  \"))\n",
    "Final_price=((NCL*0.1)+(NCH*0.25))\n",
    "\n",
    "print(\"Final Price is:  \", Final_price)"
   ]
  }
 ],
 "metadata": {
  "kernelspec": {
   "display_name": "Python 3",
   "language": "python",
   "name": "python3"
  },
  "language_info": {
   "codemirror_mode": {
    "name": "ipython",
    "version": 3
   },
   "file_extension": ".py",
   "mimetype": "text/x-python",
   "name": "python",
   "nbconvert_exporter": "python",
   "pygments_lexer": "ipython3",
   "version": "3.7.6"
  }
 },
 "nbformat": 4,
 "nbformat_minor": 4
}
