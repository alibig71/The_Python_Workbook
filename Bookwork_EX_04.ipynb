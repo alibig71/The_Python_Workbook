{
 "cells": [
  {
   "cell_type": "markdown",
   "metadata": {},
   "source": [
    "# Area of the Farm in Acre\n",
    "\n",
    "- Hint: There are 43,560 square feet in an acre."
   ]
  },
  {
   "cell_type": "code",
   "execution_count": 4,
   "metadata": {},
   "outputs": [
    {
     "name": "stdout",
     "output_type": "stream",
     "text": [
      "Please Enter the lenfth of the farm:  10\n",
      "Please Enter the width of the farm:  10\n",
      "                      \n",
      "Area (in ac) 0.002295684113865932\n"
     ]
    }
   ],
   "source": [
    "length=float(input(\"Please Enter the lenfth of the farm:  \"))\n",
    "width=float(input(\"Please Enter the width of the farm:  \"))\n",
    "area = length * width\n",
    "area_ac=area/43560\n",
    "print(\"                      \")\n",
    "print(\"Area (in ac)\", area_ac)"
   ]
  },
  {
   "cell_type": "code",
   "execution_count": null,
   "metadata": {},
   "outputs": [],
   "source": []
  }
 ],
 "metadata": {
  "kernelspec": {
   "display_name": "Python 3",
   "language": "python",
   "name": "python3"
  },
  "language_info": {
   "codemirror_mode": {
    "name": "ipython",
    "version": 3
   },
   "file_extension": ".py",
   "mimetype": "text/x-python",
   "name": "python",
   "nbconvert_exporter": "python",
   "pygments_lexer": "ipython3",
   "version": "3.7.6"
  }
 },
 "nbformat": 4,
 "nbformat_minor": 4
}
