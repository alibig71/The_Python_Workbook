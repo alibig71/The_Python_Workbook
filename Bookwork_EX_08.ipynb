{
 "cells": [
  {
   "cell_type": "markdown",
   "metadata": {},
   "source": [
    "# widgets and gizmos\n",
    "\n",
    "\n"
   ]
  },
  {
   "cell_type": "code",
   "execution_count": 3,
   "metadata": {},
   "outputs": [
    {
     "name": "stdout",
     "output_type": "stream",
     "text": [
      "Number of Widgets?5\n",
      "Number of gizmos?5\n",
      "Total Weight 940\n"
     ]
    }
   ],
   "source": [
    "N_widgets=int(input(\"Number of Widgets?\"))\n",
    "N_gizmos= int(input(\"Number of gizmos?\"))\n",
    "Total_weight= (75*N_widgets)+(113*N_gizmos)\n",
    "print(\"Total Weight\", Total_weight)"
   ]
  },
  {
   "cell_type": "code",
   "execution_count": null,
   "metadata": {},
   "outputs": [],
   "source": []
  }
 ],
 "metadata": {
  "kernelspec": {
   "display_name": "Python 3",
   "language": "python",
   "name": "python3"
  },
  "language_info": {
   "codemirror_mode": {
    "name": "ipython",
    "version": 3
   },
   "file_extension": ".py",
   "mimetype": "text/x-python",
   "name": "python",
   "nbconvert_exporter": "python",
   "pygments_lexer": "ipython3",
   "version": "3.7.3"
  }
 },
 "nbformat": 4,
 "nbformat_minor": 2
}
